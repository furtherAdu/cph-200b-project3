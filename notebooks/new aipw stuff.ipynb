{
 "cells": [
  {
   "cell_type": "code",
   "execution_count": 169,
   "metadata": {},
   "outputs": [],
   "source": [
    "%reload_ext autoreload\n",
    "%autoreload 2\n",
    "\n",
    "import sys\n",
    "import os\n",
    "\n",
    "path_to_project = os.path.abspath(os.path.join(os.getcwd(), '../'))    \n",
    "sys.path.insert(1, os.path.join(path_to_project))"
   ]
  },
  {
   "cell_type": "code",
   "execution_count": 214,
   "metadata": {},
   "outputs": [
    {
     "data": {
      "text/plain": [
       "[]"
      ]
     },
     "execution_count": 214,
     "metadata": {},
     "output_type": "execute_result"
    }
   ],
   "source": [
    "import matplotlib as mpl\n"
   ]
  },
  {
   "cell_type": "code",
   "execution_count": 222,
   "metadata": {},
   "outputs": [],
   "source": [
    "mpl.rcParams['font.family'] = 'DejaVu Serif'\n",
    "mpl.rcParams['font.serif'] = ['Times New Roman']"
   ]
  },
  {
   "cell_type": "code",
   "execution_count": 170,
   "metadata": {},
   "outputs": [],
   "source": [
    "import itertools\n",
    "import pandas as pd\n",
    "import numpy as np\n",
    "import torch\n",
    "import torch.nn as nn\n",
    "import torch.optim as optim\n",
    "from sklearn.model_selection import train_test_split\n",
    "from sklearn.preprocessing import OneHotEncoder\n",
    "import statsmodels.api as sm\n",
    "from sklearn.preprocessing import StandardScaler\n",
    "from src.utils import one_hot\n",
    "import matplotlib.pyplot as plt\n",
    "from src.directory import data_dir, NHANES_preprocessed_filename\n",
    "from src.estimators import aipw_estimator, unadjusted_DM_estimator, ipw_estimator, t_learner, s_learner, x_learner"
   ]
  },
  {
   "cell_type": "code",
   "execution_count": 171,
   "metadata": {},
   "outputs": [],
   "source": [
    "# load df\n",
    "NHANES_preprocessed_filepath = os.path.join(data_dir, NHANES_preprocessed_filename)\n",
    "df = pd.read_csv(NHANES_preprocessed_filepath, index_col='SEQN')"
   ]
  },
  {
   "cell_type": "code",
   "execution_count": 172,
   "metadata": {},
   "outputs": [
    {
     "name": "stdout",
     "output_type": "stream",
     "text": [
      "# patients with complete data:  2547\n"
     ]
    }
   ],
   "source": [
    "df.dropna(how='any', inplace=True)\n",
    "df = df[df['age']>=35]\n",
    "df.rename(columns={'martial_status': 'marital_status'}, inplace=True)\n",
    "print('# patients with complete data: ', len(df))"
   ]
  },
  {
   "cell_type": "code",
   "execution_count": 173,
   "metadata": {},
   "outputs": [],
   "source": [
    "# define relevant features\n",
    "# features\n",
    "z_col = 'ambient_light'\n",
    "t_col = 'sleep_deprivation'\n",
    "y_cols = ['HTN', 'DBP', 'SBP']\n",
    "\n",
    "# column types\n",
    "categorical_cols = ['physical_activity', 'ANTIDEPRESSANTS_ANXIOLYTICS', 'GLUCOCORTICOIDS', 'sleep_troubles',\n",
    "       'sleep_deprivation', 'diabetes', 'smoker', 'race_ethnicity', 'gender', 'health_insurance', 'marital_status','CVD', \n",
    "       'smoker_hx', 'HTN']\n",
    "numerical_cols = ['daily_sedentary', 'accelerometer', 'BMI', 'age', 'poverty_ratio', 'depression', 'yearly_alcohol', 'DBP', 'SBP']\n",
    "\n",
    "# columns not to transform\n",
    "all_cols = df.columns\n",
    "untransformed_cols = [x for x in all_cols if x in [*y_cols, t_col, z_col]]"
   ]
  },
  {
   "cell_type": "code",
   "execution_count": 174,
   "metadata": {},
   "outputs": [],
   "source": [
    "# prune df\n",
    "#df.dropna(how='any', inplace=True)\n",
    "\n",
    "## transform df\n",
    "# apply scalers\n",
    "scaler = StandardScaler()\n",
    "numerical_transformation_cols = list(set(numerical_cols) - set(untransformed_cols))\n",
    "df[numerical_transformation_cols] = scaler.fit_transform(df[numerical_transformation_cols])\n",
    "\n",
    "# make z col binary (indicator of recommended max lux value during sleep)\n",
    "light_cutoff = 1 # nightly minute-mean summed light exposure\n",
    "df[z_col] = df[z_col].apply(lambda x: 1 if x <= light_cutoff else x)\n",
    "df[z_col] = df[z_col].apply(lambda x: 0 if x > light_cutoff else x)\n",
    "\n",
    "# one-hot encode multiclass categoricals\n",
    "multiclass_cols = df[categorical_cols].columns[df[categorical_cols].nunique() > 2].tolist() \n",
    "categorical_transformation_cols = list(set(multiclass_cols) - set(untransformed_cols))\n",
    "\n",
    "df = one_hot(df, categorical_transformation_cols)\n",
    "df.columns = df.columns.str.replace('.0', '')\n",
    "\n",
    "# get df as float\n",
    "df = df.astype(float)\n",
    "\n",
    "# get covariates\n",
    "x_cols = list(set(df.columns) - set([t_col, *y_cols, z_col]))\n",
    "\n",
    "# update lists of variable type\n",
    "all_cols = df.columns\n",
    "categorical_cols = [x for x in df.columns if any([x.startswith(y) for y in categorical_cols])]"
   ]
  },
  {
   "cell_type": "code",
   "execution_count": 175,
   "metadata": {},
   "outputs": [],
   "source": [
    "### --- Neural Network Models --- ###\n",
    "class PropensityNet(nn.Module):\n",
    "    def __init__(self, input_dim, output_dim):\n",
    "        super(PropensityNet, self).__init__()\n",
    "        self.model = nn.Sequential(\n",
    "            nn.Linear(input_dim, 32),\n",
    "            nn.ReLU(),\n",
    "            nn.Linear(32, output_dim),\n",
    "            nn.Softmax(dim=1)\n",
    "        )\n",
    "\n",
    "    def forward(self, x):\n",
    "        return self.model(x)\n",
    "\n",
    "class OutcomeNet(nn.Module):\n",
    "    def __init__(self, input_dim):\n",
    "        super(OutcomeNet, self).__init__()\n",
    "        self.model = nn.Sequential(\n",
    "            nn.Linear(input_dim, 64),\n",
    "            nn.ReLU(),\n",
    "            nn.Linear(64, 32),\n",
    "            nn.ReLU(),\n",
    "            nn.Linear(32, 1),\n",
    "            nn.Sigmoid()\n",
    "        )\n",
    "\n",
    "    def forward(self, x):\n",
    "        return self.model(x)\n",
    "\n",
    "### --- Training Functions --- ###\n",
    "def train_propensity_nn(X, T, treatment_classes, epochs=100, lr=0.001):\n",
    "    class_to_index = {cls: i for i, cls in enumerate(treatment_classes)}\n",
    "    T_encoded = T.map(class_to_index)\n",
    "\n",
    "    scaler = StandardScaler()\n",
    "    X_scaled = scaler.fit_transform(X)\n",
    "    X_tensor = torch.tensor(X_scaled, dtype=torch.float32)\n",
    "    T_tensor = torch.tensor(T_encoded.values, dtype=torch.long)\n",
    "\n",
    "    model = PropensityNet(X.shape[1], len(treatment_classes))\n",
    "    optimizer = optim.Adam(model.parameters(), lr=lr)\n",
    "    criterion = nn.CrossEntropyLoss()\n",
    "\n",
    "    for _ in range(epochs):\n",
    "        model.train()\n",
    "        optimizer.zero_grad()\n",
    "        logits = model(X_tensor)\n",
    "        loss = criterion(logits, T_tensor)\n",
    "        loss.backward()\n",
    "        optimizer.step()\n",
    "\n",
    "    with torch.no_grad():\n",
    "        pi = model(X_tensor).numpy()\n",
    "    \n",
    "    return pi, model, scaler, class_to_index\n",
    "\n",
    "def train_outcome_nn(X, T, Y, treatment_classes, epochs=100, lr=0.001):\n",
    "    class_to_index = {cls: i for i, cls in enumerate(treatment_classes)}\n",
    "    T_encoded = T.map(class_to_index).values\n",
    "    T_onehot = np.eye(len(treatment_classes))[T_encoded]\n",
    "    XT = np.concatenate([X, T_onehot], axis=1)\n",
    "\n",
    "    scaler = StandardScaler()\n",
    "    XT_scaled = scaler.fit_transform(XT)\n",
    "\n",
    "    X_tensor = torch.tensor(XT_scaled, dtype=torch.float32)\n",
    "    Y_tensor = torch.tensor(Y.values, dtype=torch.float32).unsqueeze(1)\n",
    "\n",
    "    model = OutcomeNet(XT.shape[1])\n",
    "    optimizer = optim.Adam(model.parameters(), lr=lr)\n",
    "    criterion = nn.BCELoss()\n",
    "\n",
    "    for _ in range(epochs):\n",
    "        model.train()\n",
    "        optimizer.zero_grad()\n",
    "        y_pred = model(X_tensor)\n",
    "        loss = criterion(y_pred, Y_tensor)\n",
    "        loss.backward()\n",
    "        optimizer.step()\n",
    "\n",
    "    return model, scaler, class_to_index\n",
    "\n",
    "### --- AIPW Estimator --- ###\n",
    "def aipw_estimate(X, T, Y, pi, mu_model, scaler, treatment_classes, class_to_index):\n",
    "    n = len(X)\n",
    "    n_classes = len(treatment_classes)\n",
    "    tau_i = {}\n",
    "    mu = np.zeros((n, n_classes))\n",
    "\n",
    "    for cls in treatment_classes:\n",
    "        k = class_to_index[cls]\n",
    "        T_k = np.eye(n_classes)[[k] * n]\n",
    "        XT_k = np.concatenate([X, T_k], axis=1)\n",
    "        XT_k_scaled = scaler.transform(XT_k)\n",
    "        X_tensor = torch.tensor(XT_k_scaled, dtype=torch.float32)\n",
    "\n",
    "        with torch.no_grad():\n",
    "            preds = mu_model(X_tensor).numpy().flatten()\n",
    "\n",
    "        mu[:, k] = preds\n",
    "        treated = (T == cls).astype(float).values\n",
    "        ipw_term = treated / pi[:, k] * (Y.values - mu[:, k])\n",
    "        tau_i[k] = mu[:, k] + ipw_term\n",
    "\n",
    "    results = {}\n",
    "    for i, ci in enumerate(treatment_classes):\n",
    "        for j, cj in enumerate(treatment_classes):\n",
    "            if j <= i:\n",
    "                continue\n",
    "            tau_diff = tau_i[class_to_index[cj]] - tau_i[class_to_index[ci]]\n",
    "            results[f\"{cj} vs {ci}\"] = {\n",
    "                \"tau\": tau_diff.mean(),\n",
    "                \"variance\": tau_diff.var()\n",
    "            }\n",
    "\n",
    "    return results, mu\n",
    "\n",
    "### --- Optional: Weighted Logistic Regression for Inference --- ###\n",
    "def run_weighted_logistic_regression(df, treatment_col, outcome_col, pi, treatment_classes, class_to_index):\n",
    "    T_encoded = df[treatment_col].map(class_to_index)\n",
    "    Y = df[outcome_col].astype(float)\n",
    "    T_dummies = pd.get_dummies(T_encoded, prefix='T', drop_first=True)\n",
    "    X = sm.add_constant(T_dummies).astype(float)\n",
    "    weights = 1.0 / pi[np.arange(len(pi)), T_encoded]\n",
    "\n",
    "    model = sm.Logit(Y, X)\n",
    "    result = model.fit(weights=weights, disp=False)\n",
    "    X.columns = ['Intercept'] + [f\"{treatment_classes[int(c.split('_')[1])]} vs {treatment_classes[0]}\" for c in T_dummies.columns]\n",
    "    return result\n"
   ]
  },
  {
   "cell_type": "code",
   "execution_count": 177,
   "metadata": {},
   "outputs": [
    {
     "name": "stdout",
     "output_type": "stream",
     "text": [
      "AIPW Results:\n",
      "1.0 vs 0.0: tau=-0.0459, var=2.6807\n",
      "2.0 vs 0.0: tau=-0.0328, var=5.4879\n",
      "2.0 vs 1.0: tau=0.0131, var=3.0847\n"
     ]
    }
   ],
   "source": [
    "# Prep\n",
    "T = df[\"sleep_deprivation\"]\n",
    "Y = df[\"HTN\"]\n",
    "X = df[x_cols]\n",
    "treatment_classes = sorted(df[\"sleep_deprivation\"].unique())\n",
    "\n",
    "# Step 1: Train Propensity Model\n",
    "pi, prop_model, prop_scaler, class_to_index = train_propensity_nn(X, T, treatment_classes)\n",
    "\n",
    "# Step 2: Train Outcome Model\n",
    "mu_model, mu_scaler, _ = train_outcome_nn(X, T, Y, treatment_classes)\n",
    "\n",
    "# Step 3: Run AIPW Estimator\n",
    "results, mu = aipw_estimate(X, T, Y, pi, mu_model, mu_scaler, treatment_classes, class_to_index)\n",
    "\n",
    "# Step 4: Inspect Results\n",
    "print(\"AIPW Results:\")\n",
    "for k, v in results.items():\n",
    "    print(f\"{k}: tau={v['tau']:.4f}, var={v['variance']:.4f}\")\n"
   ]
  },
  {
   "cell_type": "code",
   "execution_count": 182,
   "metadata": {},
   "outputs": [
    {
     "name": "stderr",
     "output_type": "stream",
     "text": [
      "/scratch/users/melia/miniconda3/envs/cph200b_project3/lib/python3.11/site-packages/statsmodels/base/optimizer.py:19: FutureWarning: Keyword arguments have been passed to the optimizer that have no effect. The list of allowed keyword arguments for method newton is: tol, ridge_factor. The list of unsupported keyword arguments passed include: weights. After release 0.14, this will raise.\n",
      "  warnings.warn(\n"
     ]
    },
    {
     "data": {
      "text/html": [
       "<table class=\"simpletable\">\n",
       "<caption>Logit Regression Results</caption>\n",
       "<tr>\n",
       "  <th>Dep. Variable:</th>          <td>HTN</td>       <th>  No. Observations:  </th>  <td>  2547</td>  \n",
       "</tr>\n",
       "<tr>\n",
       "  <th>Model:</th>                 <td>Logit</td>      <th>  Df Residuals:      </th>  <td>  2544</td>  \n",
       "</tr>\n",
       "<tr>\n",
       "  <th>Method:</th>                 <td>MLE</td>       <th>  Df Model:          </th>  <td>     2</td>  \n",
       "</tr>\n",
       "<tr>\n",
       "  <th>Date:</th>            <td>Thu, 27 Mar 2025</td> <th>  Pseudo R-squ.:     </th> <td>0.005409</td> \n",
       "</tr>\n",
       "<tr>\n",
       "  <th>Time:</th>                <td>21:49:06</td>     <th>  Log-Likelihood:    </th> <td> -1648.9</td> \n",
       "</tr>\n",
       "<tr>\n",
       "  <th>converged:</th>             <td>True</td>       <th>  LL-Null:           </th> <td> -1657.9</td> \n",
       "</tr>\n",
       "<tr>\n",
       "  <th>Covariance Type:</th>     <td>nonrobust</td>    <th>  LLR p-value:       </th> <td>0.0001275</td>\n",
       "</tr>\n",
       "</table>\n",
       "<table class=\"simpletable\">\n",
       "<tr>\n",
       "       <td></td>         <th>coef</th>     <th>std err</th>      <th>z</th>      <th>P>|z|</th>  <th>[0.025</th>    <th>0.975]</th>  \n",
       "</tr>\n",
       "<tr>\n",
       "  <th>Intercept</th>  <td>    0.8018</td> <td>    0.073</td> <td>   10.947</td> <td> 0.000</td> <td>    0.658</td> <td>    0.945</td>\n",
       "</tr>\n",
       "<tr>\n",
       "  <th>1.0 vs 0.0</th> <td>   -0.3733</td> <td>    0.093</td> <td>   -4.031</td> <td> 0.000</td> <td>   -0.555</td> <td>   -0.192</td>\n",
       "</tr>\n",
       "<tr>\n",
       "  <th>2.0 vs 0.0</th> <td>   -0.0844</td> <td>    0.133</td> <td>   -0.637</td> <td> 0.524</td> <td>   -0.344</td> <td>    0.175</td>\n",
       "</tr>\n",
       "</table>"
      ],
      "text/latex": [
       "\\begin{center}\n",
       "\\begin{tabular}{lclc}\n",
       "\\toprule\n",
       "\\textbf{Dep. Variable:}   &       HTN        & \\textbf{  No. Observations:  } &     2547    \\\\\n",
       "\\textbf{Model:}           &      Logit       & \\textbf{  Df Residuals:      } &     2544    \\\\\n",
       "\\textbf{Method:}          &       MLE        & \\textbf{  Df Model:          } &        2    \\\\\n",
       "\\textbf{Date:}            & Thu, 27 Mar 2025 & \\textbf{  Pseudo R-squ.:     } &  0.005409   \\\\\n",
       "\\textbf{Time:}            &     21:49:06     & \\textbf{  Log-Likelihood:    } &   -1648.9   \\\\\n",
       "\\textbf{converged:}       &       True       & \\textbf{  LL-Null:           } &   -1657.9   \\\\\n",
       "\\textbf{Covariance Type:} &    nonrobust     & \\textbf{  LLR p-value:       } & 0.0001275   \\\\\n",
       "\\bottomrule\n",
       "\\end{tabular}\n",
       "\\begin{tabular}{lcccccc}\n",
       "                    & \\textbf{coef} & \\textbf{std err} & \\textbf{z} & \\textbf{P$> |$z$|$} & \\textbf{[0.025} & \\textbf{0.975]}  \\\\\n",
       "\\midrule\n",
       "\\textbf{Intercept}  &       0.8018  &        0.073     &    10.947  &         0.000        &        0.658    &        0.945     \\\\\n",
       "\\textbf{1.0 vs 0.0} &      -0.3733  &        0.093     &    -4.031  &         0.000        &       -0.555    &       -0.192     \\\\\n",
       "\\textbf{2.0 vs 0.0} &      -0.0844  &        0.133     &    -0.637  &         0.524        &       -0.344    &        0.175     \\\\\n",
       "\\bottomrule\n",
       "\\end{tabular}\n",
       "%\\caption{Logit Regression Results}\n",
       "\\end{center}"
      ],
      "text/plain": [
       "<class 'statsmodels.iolib.summary.Summary'>\n",
       "\"\"\"\n",
       "                           Logit Regression Results                           \n",
       "==============================================================================\n",
       "Dep. Variable:                    HTN   No. Observations:                 2547\n",
       "Model:                          Logit   Df Residuals:                     2544\n",
       "Method:                           MLE   Df Model:                            2\n",
       "Date:                Thu, 27 Mar 2025   Pseudo R-squ.:                0.005409\n",
       "Time:                        21:49:06   Log-Likelihood:                -1648.9\n",
       "converged:                       True   LL-Null:                       -1657.9\n",
       "Covariance Type:            nonrobust   LLR p-value:                 0.0001275\n",
       "==============================================================================\n",
       "                 coef    std err          z      P>|z|      [0.025      0.975]\n",
       "------------------------------------------------------------------------------\n",
       "Intercept      0.8018      0.073     10.947      0.000       0.658       0.945\n",
       "1.0 vs 0.0    -0.3733      0.093     -4.031      0.000      -0.555      -0.192\n",
       "2.0 vs 0.0    -0.0844      0.133     -0.637      0.524      -0.344       0.175\n",
       "==============================================================================\n",
       "\"\"\""
      ]
     },
     "execution_count": 182,
     "metadata": {},
     "output_type": "execute_result"
    }
   ],
   "source": [
    "df[\"T_encoded\"] = df[\"sleep_deprivation\"].map(class_to_index)\n",
    "\n",
    "# Run weighted logistic regression\n",
    "logit_result = run_weighted_logistic_regression(\n",
    "    df=df,\n",
    "    treatment_col=\"sleep_deprivation\",  # original treatment column\n",
    "    outcome_col=\"HTN\",                  # binary outcome\n",
    "    pi=pi,\n",
    "    treatment_classes=treatment_classes,\n",
    "    class_to_index=class_to_index\n",
    ")\n",
    "logit_result.summary()"
   ]
  },
  {
   "cell_type": "code",
   "execution_count": 152,
   "metadata": {},
   "outputs": [
    {
     "name": "stdout",
     "output_type": "stream",
     "text": [
      "Baseline risk (T=0): 0.661\n",
      "\n",
      "1.0 vs 0.0: Risk Ratio ≈ 0.922, E-value = 1.388\n",
      "2.0 vs 0.0: Risk Ratio ≈ 0.937, E-value = 1.334\n"
     ]
    }
   ],
   "source": [
    "# RISK RATIOS AND E-VALUES for aipw\n",
    "baseline_risk = mu[:, 0].mean()\n",
    "\n",
    "def calculate_e_value(rr):\n",
    "    if rr < 1:\n",
    "        rr = 1 / rr\n",
    "    return rr + np.sqrt(rr * (rr - 1))\n",
    "\n",
    "print(f\"Baseline risk (T=0): {baseline_risk:.3f}\\n\")\n",
    "\n",
    "for comparison, result in results.items():\n",
    "    if \"0.0\" not in comparison:\n",
    "        continue  # skip non-baseline comparisons\n",
    "    tau = result[\"tau\"]\n",
    "    treated_risk = baseline_risk + tau\n",
    "    rr = treated_risk / baseline_risk if baseline_risk > 0 else np.nan\n",
    "    e_val = calculate_e_value(rr)\n",
    "    print(f\"{comparison}: Risk Ratio ≈ {rr:.3f}, E-value = {e_val:.3f}\")\n"
   ]
  },
  {
   "cell_type": "code",
   "execution_count": 192,
   "metadata": {},
   "outputs": [],
   "source": [
    "import numpy as np\n",
    "from tqdm import tqdm\n",
    "\n",
    "def bootstrap_aipw_nn(data, treatment_var, outcome_var, covariates, n_bootstrap=500, seed=42):\n",
    "    np.random.seed(seed)\n",
    "    all_bootstrapped_taus = {}\n",
    "\n",
    "    treatment_classes = sorted(data[treatment_var].unique())\n",
    "    for _ in tqdm(range(n_bootstrap)):\n",
    "        sample = data.sample(n=len(data), replace=True)\n",
    "\n",
    "        X = sample[covariates]\n",
    "        T = sample[treatment_var]\n",
    "        Y = sample[outcome_var]\n",
    "\n",
    "        # Train propensity + outcome models\n",
    "        pi, _, _, class_to_index = train_propensity_nn(X, T, treatment_classes)\n",
    "        mu_model, mu_scaler, _ = train_outcome_nn(X, T, Y, treatment_classes)\n",
    "\n",
    "        # Estimate AIPW\n",
    "        results, _ = aipw_estimate(\n",
    "            X, T, Y,\n",
    "            pi=pi,\n",
    "            mu_model=mu_model,\n",
    "            scaler=mu_scaler,\n",
    "            treatment_classes=treatment_classes,\n",
    "            class_to_index=class_to_index\n",
    "        )\n",
    "\n",
    "        for contrast, res in results.items():\n",
    "            if contrast not in all_bootstrapped_taus:\n",
    "                all_bootstrapped_taus[contrast] = []\n",
    "            all_bootstrapped_taus[contrast].append(res[\"tau\"])\n",
    "\n",
    "    return all_bootstrapped_taus\n",
    "\n",
    "\n",
    "\n",
    "def compute_bootstrap_ci(bootstrap_taus, alpha=0.05):\n",
    "    summary = {}\n",
    "    for contrast, taus in bootstrap_taus.items():\n",
    "        lower = np.percentile(taus, 100 * alpha / 2)\n",
    "        upper = np.percentile(taus, 100 * (1 - alpha / 2))\n",
    "        mean = np.mean(taus)\n",
    "        summary[contrast] = {\n",
    "            \"tau\": mean,\n",
    "            \"ci_lower\": lower,\n",
    "            \"ci_upper\": upper\n",
    "        }\n",
    "    return summary"
   ]
  },
  {
   "cell_type": "code",
   "execution_count": 193,
   "metadata": {},
   "outputs": [
    {
     "name": "stderr",
     "output_type": "stream",
     "text": [
      "100%|██████████| 1000/1000 [07:13<00:00,  2.31it/s]\n"
     ]
    }
   ],
   "source": [
    "bootstrap_taus = bootstrap_aipw_nn(\n",
    "    data=df,\n",
    "    treatment_var=\"sleep_deprivation\",\n",
    "    outcome_var=\"HTN\",\n",
    "    covariates=x_cols,\n",
    "    n_bootstrap=1000\n",
    ")"
   ]
  },
  {
   "cell_type": "code",
   "execution_count": 194,
   "metadata": {},
   "outputs": [],
   "source": [
    "bootstrap_summary = compute_bootstrap_ci(bootstrap_taus)"
   ]
  },
  {
   "cell_type": "code",
   "execution_count": 195,
   "metadata": {},
   "outputs": [
    {
     "data": {
      "text/plain": [
       "{'1.0 vs 0.0': {'tau': -0.029255185939250406,\n",
       "  'ci_lower': -0.09445222161199629,\n",
       "  'ci_upper': 0.03671234232958267},\n",
       " '2.0 vs 0.0': {'tau': 0.04195872872206789,\n",
       "  'ci_lower': -0.11773699951722759,\n",
       "  'ci_upper': 0.2565233849119409},\n",
       " '2.0 vs 1.0': {'tau': 0.07121391466131828,\n",
       "  'ci_lower': -0.06733321551178471,\n",
       "  'ci_upper': 0.27803157004407364}}"
      ]
     },
     "execution_count": 195,
     "metadata": {},
     "output_type": "execute_result"
    }
   ],
   "source": [
    "bootstrap_summary"
   ]
  },
  {
   "cell_type": "code",
   "execution_count": 237,
   "metadata": {},
   "outputs": [
    {
     "data": {
      "image/png": "[encoded data removed]",
      "text/plain": [
       "<Figure size 800x500 with 1 Axes>"
      ]
     },
     "metadata": {},
     "output_type": "display_data"
    }
   ],
   "source": [
    "contrasts = list(bootstrap_summary.keys())\n",
    "taus = [bootstrap_summary[c][\"tau\"] for c in contrasts]\n",
    "lowers = [bootstrap_summary[c][\"ci_lower\"] for c in contrasts]\n",
    "uppers = [bootstrap_summary[c][\"ci_upper\"] for c in contrasts]\n",
    "\n",
    "errors = [\n",
    "    [tau - low for tau, low in zip(taus, lowers)],\n",
    "    [up - tau for up, tau in zip(uppers, taus)]\n",
    "]\n",
    "\n",
    "plt.figure(figsize=(8, 5))\n",
    "plt.errorbar(['Control vs Mild', 'Control vs Severe', 'Mild vs Severe'], taus, yerr=errors, fmt='o', capsize=5, color='black', ecolor='black', linewidth=2)\n",
    "plt.axhline(0, color='gray', linestyle='--', linewidth=1)\n",
    "plt.ylabel(\"Average Treatment Effect (τ)\")\n",
    "plt.title(\"AIPW Average Treatment Effects\")\n",
    "plt.grid(True, linestyle=':', alpha=0.6)\n",
    "plt.xticks()\n",
    "plt.savefig('../AIPW_Results.png', transparent=True)"
   ]
  },
  {
   "cell_type": "code",
   "execution_count": 199,
   "metadata": {},
   "outputs": [
    {
     "data": {
      "image/png": "[encoded data removed]",
      "text/plain": [
       "<Figure size 640x480 with 1 Axes>"
      ]
     },
     "metadata": {},
     "output_type": "display_data"
    }
   ],
   "source": [
    "\n",
    "x = ['None', 'Mild', 'Severe']\n",
    "y = [sum(df.loc[df['sleep_deprivation']==0, 'HTN'])/len(df['sleep_deprivation']==0), \n",
    "     sum(df.loc[df['sleep_deprivation']==1, 'HTN'])/len(df['sleep_deprivation']==1),\n",
    "     sum(df.loc[df['sleep_deprivation']==2, 'HTN'])/len(df['sleep_deprivation']==2)]\n",
    "\n",
    "plt.bar(x,y)\n",
    "\n",
    "for index, value in enumerate(y):\n",
    "    plt.text(index, value, str(round(value, 2)))"
   ]
  }
 ],
 "metadata": {
  "kernelspec": {
   "display_name": "cph200b_project3",
   "language": "python",
   "name": "python3"
  },
  "language_info": {
   "codemirror_mode": {
    "name": "ipython",
    "version": 3
   },
   "file_extension": ".py",
   "mimetype": "text/x-python",
   "name": "python",
   "nbconvert_exporter": "python",
   "pygments_lexer": "ipython3",
   "version": "3.11.11"
  }
 },
 "nbformat": 4,
 "nbformat_minor": 2
}
