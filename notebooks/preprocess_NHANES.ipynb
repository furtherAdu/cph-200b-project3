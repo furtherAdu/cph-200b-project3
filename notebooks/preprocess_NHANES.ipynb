{
 "cells": [
  {
   "cell_type": "code",
   "execution_count": 1,
   "metadata": {},
   "outputs": [],
   "source": [
    "%reload_ext autoreload\n",
    "%autoreload 2\n",
    "\n",
    "import sys\n",
    "import os\n",
    "\n",
    "path_to_project = os.path.abspath(os.path.join(os.getcwd(), '../'))    \n",
    "sys.path.insert(1, os.path.join(path_to_project))"
   ]
  },
  {
   "cell_type": "code",
   "execution_count": 2,
   "metadata": {},
   "outputs": [],
   "source": [
    "import re\n",
    "import pandas as pd\n",
    "import warnings\n",
    "from src.data_dict import NHANES_nan_fill\n",
    "from src.directory import data_dir, NHANES_dir, NHANES_preprocessed_filename, NHANES_vars_lookup_filename\n",
    "from src.utils import preprocess_NHANES, download_nhanes_xpt"
   ]
  },
  {
   "cell_type": "markdown",
   "metadata": {},
   "source": [
    "# Download data"
   ]
  },
  {
   "cell_type": "code",
   "execution_count": 3,
   "metadata": {},
   "outputs": [],
   "source": [
    "warnings.simplefilter(action='ignore', category=FutureWarning)"
   ]
  },
  {
   "cell_type": "code",
   "execution_count": 5,
   "metadata": {},
   "outputs": [
    {
     "name": "stdout",
     "output_type": "stream",
     "text": [
      "PAXMIN_H.xpt already exists. Skipping.\n",
      "SLQ_H.xpt already exists. Skipping.\n",
      "BPX_H.xpt already exists. Skipping.\n",
      "BPQ_H.xpt already exists. Skipping.\n",
      "DIQ_H.xpt already exists. Skipping.\n",
      "BMX_H.xpt already exists. Skipping.\n",
      "SMQ_H.xpt already exists. Skipping.\n",
      "SMQRTU_H.xpt already exists. Skipping.\n",
      "DEMO_H.xpt already exists. Skipping.\n",
      "DPQ_H.xpt already exists. Skipping.\n",
      "RXQ_DRUG.xpt already exists. Skipping.\n",
      "RXQ_RX_H.xpt already exists. Skipping.\n",
      "PAQ_H.xpt already exists. Skipping.\n",
      "PAXDAY_H.xpt already exists. Skipping.\n"
     ]
    }
   ],
   "source": [
    "# read in variable lookup df\n",
    "vars_lookup_df = pd.read_csv(os.path.join(data_dir, NHANES_vars_lookup_filename))\n",
    "\n",
    "# get questionnaire names\n",
    "questionnaires = vars_lookup_df['Data File Name'].apply(lambda x: re.findall('\\(([^)]+)', x)[0]).unique()\n",
    "\n",
    "url_list = [\n",
    "    f\"https://wwwn.cdc.gov/Nchs/Data/Nhanes/Public/2013/DataFiles/{questionnaire}.xpt\" for questionnaire in questionnaires\n",
    "]\n",
    "\n",
    "# download datasets (if necessary)\n",
    "download_nhanes_xpt(url_list)"
   ]
  },
  {
   "cell_type": "markdown",
   "metadata": {},
   "source": [
    "# Read in data to dataframe"
   ]
  },
  {
   "cell_type": "code",
   "execution_count": 6,
   "metadata": {},
   "outputs": [],
   "source": [
    "NHANES_preprocessed_filepath = os.path.join(data_dir, NHANES_preprocessed_filename)"
   ]
  },
  {
   "cell_type": "code",
   "execution_count": 32,
   "metadata": {},
   "outputs": [
    {
     "name": "stdout",
     "output_type": "stream",
     "text": [
      "Preprocessing PAQ_H.xpt...\n"
     ]
    },
    {
     "name": "stdout",
     "output_type": "stream",
     "text": [
      "Preprocessing BPQ_H.xpt...\n",
      "Preprocessing DPQ_H.xpt...\n",
      "Preprocessing PAXDAY_H.xpt...\n",
      "Preprocessing RXQ_RX_H.xpt...\n",
      "Preprocessing SLQ_H.xpt...\n",
      "Preprocessing BPX_H.xpt...\n",
      "Preprocessing SMQRTU_H.xpt...\n",
      "Preprocessing DIQ_H.xpt...\n",
      "Preprocessing BMX_H.xpt...\n",
      "Preprocessing SMQ_H.xpt...\n",
      "Preprocessing DEMO_H.xpt...\n"
     ]
    }
   ],
   "source": [
    "df = preprocess_NHANES(exclude=['RXQ_DRUG.xpt', 'PAXMIN_H.xpt'])\n",
    "df.to_csv(NHANES_preprocessed_filepath)"
   ]
  },
  {
   "cell_type": "code",
   "execution_count": 33,
   "metadata": {},
   "outputs": [],
   "source": [
    "# read in lux values\n",
    "lux_filepath = os.path.join(data_dir, 'lux_df.csv')\n",
    "if os.path.exists(lux_filepath):\n",
    "    lux_df = pd.read_csv(lux_filepath, index_col='SEQN')\n",
    "else:\n",
    "    lux_df = preprocess_NHANES(exclude=[\n",
    "        os.path.basename(x) for x in os.listdir(NHANES_dir) if 'PAXMIN_H.xpt' not in x])\n",
    "    lux_df.to_csv(lux_filepath)"
   ]
  },
  {
   "cell_type": "code",
   "execution_count": 11,
   "metadata": {},
   "outputs": [
    {
     "data": {
      "text/html": [
       "<div>\n",
       "<style scoped>\n",
       "    .dataframe tbody tr th:only-of-type {\n",
       "        vertical-align: middle;\n",
       "    }\n",
       "\n",
       "    .dataframe tbody tr th {\n",
       "        vertical-align: top;\n",
       "    }\n",
       "\n",
       "    .dataframe thead th {\n",
       "        text-align: right;\n",
       "    }\n",
       "</style>\n",
       "<table border=\"1\" class=\"dataframe\">\n",
       "  <thead>\n",
       "    <tr style=\"text-align: right;\">\n",
       "      <th></th>\n",
       "      <th>ambient_light</th>\n",
       "    </tr>\n",
       "    <tr>\n",
       "      <th>SEQN</th>\n",
       "      <th></th>\n",
       "    </tr>\n",
       "  </thead>\n",
       "  <tbody>\n",
       "    <tr>\n",
       "      <th>73664.0</th>\n",
       "      <td>0.000000</td>\n",
       "    </tr>\n",
       "    <tr>\n",
       "      <th>73665.0</th>\n",
       "      <td>836.735051</td>\n",
       "    </tr>\n",
       "    <tr>\n",
       "      <th>73666.0</th>\n",
       "      <td>4936.009992</td>\n",
       "    </tr>\n",
       "    <tr>\n",
       "      <th>73667.0</th>\n",
       "      <td>0.000000</td>\n",
       "    </tr>\n",
       "    <tr>\n",
       "      <th>73668.0</th>\n",
       "      <td>64.910539</td>\n",
       "    </tr>\n",
       "    <tr>\n",
       "      <th>...</th>\n",
       "      <td>...</td>\n",
       "    </tr>\n",
       "    <tr>\n",
       "      <th>83725.0</th>\n",
       "      <td>0.000000</td>\n",
       "    </tr>\n",
       "    <tr>\n",
       "      <th>83727.0</th>\n",
       "      <td>50857.547541</td>\n",
       "    </tr>\n",
       "    <tr>\n",
       "      <th>83729.0</th>\n",
       "      <td>1204.640125</td>\n",
       "    </tr>\n",
       "    <tr>\n",
       "      <th>83730.0</th>\n",
       "      <td>0.000000</td>\n",
       "    </tr>\n",
       "    <tr>\n",
       "      <th>83731.0</th>\n",
       "      <td>0.000000</td>\n",
       "    </tr>\n",
       "  </tbody>\n",
       "</table>\n",
       "<p>7688 rows × 1 columns</p>\n",
       "</div>"
      ],
      "text/plain": [
       "         ambient_light\n",
       "SEQN                  \n",
       "73664.0       0.000000\n",
       "73665.0     836.735051\n",
       "73666.0    4936.009992\n",
       "73667.0       0.000000\n",
       "73668.0      64.910539\n",
       "...                ...\n",
       "83725.0       0.000000\n",
       "83727.0   50857.547541\n",
       "83729.0    1204.640125\n",
       "83730.0       0.000000\n",
       "83731.0       0.000000\n",
       "\n",
       "[7688 rows x 1 columns]"
      ]
     },
     "execution_count": 11,
     "metadata": {},
     "output_type": "execute_result"
    }
   ],
   "source": [
    "lux_df"
   ]
  },
  {
   "cell_type": "code",
   "execution_count": 34,
   "metadata": {},
   "outputs": [],
   "source": [
    "# merge with df\n",
    "df = pd.concat([df, lux_df], axis=1)\n",
    "df.to_csv(NHANES_preprocessed_filepath)"
   ]
  },
  {
   "cell_type": "markdown",
   "metadata": {},
   "source": [
    "# Get descriptive statistics (over missing data)"
   ]
  },
  {
   "cell_type": "code",
   "execution_count": 35,
   "metadata": {},
   "outputs": [
    {
     "name": "stdout",
     "output_type": "stream",
     "text": [
      "Total subjects with valid HTN & sleep deprivation values: 6187\n"
     ]
    },
    {
     "data": {
      "text/plain": [
       "physical_activity              1.000000\n",
       "sleep_deprivation              1.000000\n",
       "HTN                            1.000000\n",
       "age                            1.000000\n",
       "gender                         1.000000\n",
       "race_ethnicity                 1.000000\n",
       "diabetes                       1.000000\n",
       "GLUCOCORTICOIDS                1.000000\n",
       "ANTIDEPRESSANTS_ANXIOLYTICS    1.000000\n",
       "sleep_troubles                 0.999838\n",
       "daily_sedentary                0.996121\n",
       "BMI                            0.978503\n",
       "smoker                         0.951511\n",
       "poverty_ratio                  0.922903\n",
       "accelerometer                  0.864716\n",
       "depression                     0.856473\n",
       "ambient_light                  0.855019\n",
       "Name: count, dtype: float64"
      ]
     },
     "execution_count": 35,
     "metadata": {},
     "output_type": "execute_result"
    }
   ],
   "source": [
    "# get indices for rows with valid HTN or sleep deprivation values\n",
    "# valid_HTN_or_deprivation = ~(df['HTN'].isna() & df['sleep_deprivation'].isna())\n",
    "\n",
    "# get indices for rows with valid HTN and sleep deprivation values\n",
    "valid_HTN_and_deprivation = ~(df['HTN'].isna() | df['sleep_deprivation'].isna())\n",
    "\n",
    "total_valid_subjects = valid_HTN_and_deprivation.sum().item()\n",
    "print('Total subjects with valid HTN & sleep deprivation values:', total_valid_subjects)\n",
    "\n",
    "# get ratio of valid responses for each column\n",
    "ratio_of_valid_responses = df[valid_HTN_and_deprivation].describe().loc['count'] / total_valid_subjects\n",
    "ratio_of_valid_responses.sort_values(ascending=False)"
   ]
  },
  {
   "cell_type": "code",
   "execution_count": 36,
   "metadata": {},
   "outputs": [
    {
     "name": "stdout",
     "output_type": "stream",
     "text": [
      "Total subjects with complete data: 4319\n"
     ]
    }
   ],
   "source": [
    "# get subjects with complete data\n",
    "subjects_with_complete_data = df.dropna(how='any')\n",
    "\n",
    "print('Total subjects with complete data:', len(subjects_with_complete_data))"
   ]
  },
  {
   "cell_type": "markdown",
   "metadata": {},
   "source": [
    "# Impute missing data (optional)"
   ]
  },
  {
   "cell_type": "code",
   "execution_count": 1,
   "metadata": {},
   "outputs": [],
   "source": [
    "%reload_ext autoreload\n",
    "%autoreload 2\n",
    "\n",
    "import sys\n",
    "import os\n",
    "\n",
    "path_to_project = os.path.abspath(os.path.join(os.getcwd(), '../'))    \n",
    "sys.path.insert(1, os.path.join(path_to_project))"
   ]
  },
  {
   "cell_type": "code",
   "execution_count": null,
   "metadata": {},
   "outputs": [],
   "source": [
    "import pandas as pd\n",
    "from src.directory import data_dir, NHANES_preprocessed_filename"
   ]
  },
  {
   "cell_type": "code",
   "execution_count": 3,
   "metadata": {},
   "outputs": [],
   "source": [
    "NHANES_preprocessed_filepath = os.path.join(data_dir, NHANES_preprocessed_filename)\n",
    "df = pd.read_csv(NHANES_preprocessed_filepath, index_col='SEQN')"
   ]
  },
  {
   "cell_type": "code",
   "execution_count": 29,
   "metadata": {},
   "outputs": [],
   "source": [
    "categorical_cols = ['physical_activity', 'depression', 'ANTIDEPRESSANTS_ANXIOLYTICS', 'GLUCOCORTICOIDS', 'sleep_troubles',\n",
    "       'sleep_deprivation', 'diabetes', 'smoker', 'race_ethnicity', 'gender', 'HTN']\n",
    "numerical_cols = ['daily_sedentary', 'accelerometer', 'BMI', 'age', 'poverty_ratio', 'ambient_light']"
   ]
  },
  {
   "cell_type": "code",
   "execution_count": null,
   "metadata": {},
   "outputs": [],
   "source": [
    "# impute numerical values\n",
    "for col in numerical_cols:\n",
    "    fill_value = df[col].mean().item() # mean \n",
    "    df[col] = df[col].fillna(fill_value)\n",
    "\n",
    "# TODO: (optional) MICE imputation / categorical imputation"
   ]
  }
 ],
 "metadata": {
  "kernelspec": {
   "display_name": "cph200b_project3",
   "language": "python",
   "name": "python3"
  },
  "language_info": {
   "codemirror_mode": {
    "name": "ipython",
    "version": 3
   },
   "file_extension": ".py",
   "mimetype": "text/x-python",
   "name": "python",
   "nbconvert_exporter": "python",
   "pygments_lexer": "ipython3",
   "version": "3.11.11"
  }
 },
 "nbformat": 4,
 "nbformat_minor": 2
}
